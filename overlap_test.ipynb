{
 "cells": [
  {
   "cell_type": "code",
   "execution_count": null,
   "metadata": {},
   "outputs": [],
   "source": [
    "from shapely.geometry import Polygon, Point, MultiPolygon\n",
    "import matplotlib.pyplot as plt\n",
    "from matplotlib.patches import Polygon as PlotPolygon\n",
    "from matplotlib.patches import Rectangle\n",
    "from random import random, randrange\n",
    "\n"
   ]
  },
  {
   "cell_type": "markdown",
   "metadata": {},
   "source": [
    "### Define functions"
   ]
  },
  {
   "cell_type": "code",
   "execution_count": null,
   "metadata": {},
   "outputs": [],
   "source": [
    "## Make circle function as polygon\n",
    "def Circle(x, y, radius):\n",
    "    return Point(x,y).buffer(radius)"
   ]
  },
  {
   "cell_type": "markdown",
   "metadata": {},
   "source": [
    "### Visualise Function"
   ]
  },
  {
   "cell_type": "code",
   "execution_count": null,
   "metadata": {},
   "outputs": [],
   "source": [
    "def randomColor():\n",
    "    r = random()\n",
    "    g = random()\n",
    "    b = random()\n",
    "    return (r,g,b)\n",
    "\n",
    "def visualiseScene(polygons, points):\n",
    "    colors = []\n",
    "    fig, ax = plt.subplots(figsize = (9,6))\n",
    "    ax.set_xlim([-3, 3])\n",
    "    ax.set_ylim([-2, 2])\n",
    "    ax.set_title('Shapely Polygons Visualization')\n",
    "\n",
    "    # Draw polygons\n",
    "    for polygon in polygons:\n",
    "        \n",
    "        # color\n",
    "        # ax.add_patch(PlotPolygon(xy=polygon.exterior.coords, edgecolor='black', facecolor=randomColor(), alpha = 0.5))\n",
    "        \n",
    "        # grey\n",
    "        ax.add_patch(PlotPolygon(xy=polygon.exterior.coords, edgecolor='black', facecolor='black', alpha = 0.1))\n",
    "    \n",
    "    \n",
    "    # Draw Rectangle (Table)\n",
    "    ax.add_patch(PlotPolygon(xy=Polygon(((-1,-0.5),(-1, 0.5),(1, 0.5),(1,-0.5))).exterior.coords, edgecolor='black', facecolor='white', alpha = 1))\n",
    "    \n",
    "    # Draw points\n",
    "    for point in points:\n",
    "        plt.scatter(point[0],point[1], color =\"black\")      \n",
    "        \n",
    "\n",
    "    plt.show()"
   ]
  },
  {
   "cell_type": "markdown",
   "metadata": {},
   "source": [
    "### Load in intial test scene data"
   ]
  },
  {
   "cell_type": "code",
   "execution_count": null,
   "metadata": {},
   "outputs": [],
   "source": [
    "class Plate:\n",
    "    def __init__(self, x=0, y=0, radius=1):\n",
    "        self.x = x\n",
    "        self.y = y\n",
    "        self.radius = radius\n",
    "        self.center = (x,y)\n",
    "        self.polygon = Circle(x,y,radius)\n",
    "\n",
    "def CreatePlateScene(coords): # coords is list of (x,y) of plate, e.g. [(1,2),(2,4),(5,1)]\n",
    "    plates = []\n",
    "    for plate in coords:\n",
    "        plates.append(Plate(plate[0],plate[1],1))\n",
    "\n",
    "    return plates\n",
    "\n",
    "plate_coords = [    \n",
    "        (0.69136,-0.03378),\n",
    "        (0.46042,-0.31386),\n",
    "        (0.23854,0.22787),\n",
    "        (-0.07518,-0.28684),\n",
    "        (-0.20048,0.13328),\n",
    "        (0.63731,0.25367),\n",
    "        (0.21473,0.04484),\n",
    "        (-0.69118,-0.27422),\n",
    "        (-0.824,0.26879),\n",
    "        (-0.39502,-0.31306),\n",
    "        (-0.5668,0.13019)\n",
    "        ]\n",
    "\n",
    "plates = CreatePlateScene(plate_coords)\n",
    "\n",
    "# for plate in plates:\n",
    "#     print (f\"x = {plate.x}\")\n",
    "#     print (f\"y = {plate.y}\")\n",
    "#     print (f\"center = {plate.center}\")\n",
    "#     print()  "
   ]
  },
  {
   "cell_type": "code",
   "execution_count": null,
   "metadata": {},
   "outputs": [],
   "source": [
    "poly_list = [plate.polygon for plate in plates]\n",
    "centers_list = [plate.center for plate in plates]\n",
    "visualiseScene(poly_list, centers_list)"
   ]
  },
  {
   "cell_type": "code",
   "execution_count": null,
   "metadata": {},
   "outputs": [],
   "source": []
  },
  {
   "cell_type": "code",
   "execution_count": null,
   "metadata": {},
   "outputs": [],
   "source": []
  },
  {
   "cell_type": "code",
   "execution_count": null,
   "metadata": {},
   "outputs": [],
   "source": []
  },
  {
   "cell_type": "code",
   "execution_count": null,
   "metadata": {},
   "outputs": [],
   "source": []
  },
  {
   "cell_type": "code",
   "execution_count": null,
   "metadata": {},
   "outputs": [],
   "source": []
  },
  {
   "cell_type": "code",
   "execution_count": null,
   "metadata": {},
   "outputs": [],
   "source": [
    "polygons = [c1,c2,c3]\n",
    "visualiseScene(polygons)"
   ]
  }
 ],
 "metadata": {
  "kernelspec": {
   "display_name": "fyp_venv",
   "language": "python",
   "name": "python3"
  },
  "language_info": {
   "codemirror_mode": {
    "name": "ipython",
    "version": 3
   },
   "file_extension": ".py",
   "mimetype": "text/x-python",
   "name": "python",
   "nbconvert_exporter": "python",
   "pygments_lexer": "ipython3",
   "version": "3.10.11"
  }
 },
 "nbformat": 4,
 "nbformat_minor": 2
}
